{
 "cells": [
  {
   "cell_type": "markdown",
   "id": "07a85732",
   "metadata": {},
   "source": [
    "# Introduction\n",
    "Time-series analysis and forecasting play a crucial role in various domains such as finance, healthcare, and engineering. The ability to predict future trends based on historical data is invaluable for making informed decisions. This project aims to tackle a time-series prediction problem by leveraging the capabilities of advanced machine learning models, specifically Recurrent Neural Networks (RNNs) with Long Short-Term Memory (LSTM) layers.\n",
    "\n",
    "RNNs are designed to process sequential data by maintaining a hidden state that captures information from previous time steps. However, traditional RNNs often face challenges such as vanishing gradients, which limit their ability to capture long-term dependencies. LSTMs address these limitations by introducing gated mechanisms that enable the model to retain relevant information over extended sequences.\n",
    "\n",
    "The dataset used in this project represents sequential data that is split into training and testing subsets. The pipeline begins with preprocessing, including normalization and sequence creation. A baseline linear regression model is implemented as a benchmark to evaluate the performance of the LSTM-based model. The LSTM model is then trained and evaluated using metrics such as Mean Absolute Error (MAE) and Mean Squared Error (MSE). These metrics provide insights into the model's prediction accuracy and its ability to generalize to unseen data.\n",
    "\n",
    "The steps include:\n",
    "- Loading and preprocessing the dataset, including normalization and sequence creation.\n",
    "- Implementing a baseline linear regression model for benchmark comparison.\n",
    "- Designing and training an LSTM-based model to learn temporal patterns.\n",
    "- Evaluating the models using metrics such as Mean Absolute Error (MAE) and Mean Squared Error (MSE).\n",
    "- Analyzing the results to demonstrate the advantages of deep learning approaches.\n",
    "\n",
    "Through this project, the aim is to demonstrate the effectiveness of deep learning in capturing temporal patterns in sequential data, ultimately leading to more accurate and reliable predictions compared to traditional methods. The findings have the potential to inform future research and applications in time-series analysis, paving the way for further exploration and innovation in this field."
   ]
  },
  {
   "cell_type": "code",
   "execution_count": 9,
   "id": "abfda64e",
   "metadata": {},
   "outputs": [],
   "source": [
    "import pandas as pd\n",
    "import numpy as np\n",
    "import tensorflow as tf\n",
    "from sklearn.model_selection import train_test_split\n",
    "from sklearn.preprocessing import LabelEncoder, MinMaxScaler\n",
    "from sklearn.metrics import mean_absolute_error, mean_squared_error\n",
    "from tensorflow.keras.models import Sequential\n",
    "from tensorflow.keras.layers import LSTM, Dense, Dropout"
   ]
  },
  {
   "cell_type": "code",
   "execution_count": 10,
   "id": "e9c34639",
   "metadata": {},
   "outputs": [
    {
     "data": {
      "text/html": [
       "<div>\n",
       "<style scoped>\n",
       "    .dataframe tbody tr th:only-of-type {\n",
       "        vertical-align: middle;\n",
       "    }\n",
       "\n",
       "    .dataframe tbody tr th {\n",
       "        vertical-align: top;\n",
       "    }\n",
       "\n",
       "    .dataframe thead th {\n",
       "        text-align: right;\n",
       "    }\n",
       "</style>\n",
       "<table border=\"1\" class=\"dataframe\">\n",
       "  <thead>\n",
       "    <tr style=\"text-align: right;\">\n",
       "      <th></th>\n",
       "      <th>User ID</th>\n",
       "      <th>Device Model</th>\n",
       "      <th>Operating System</th>\n",
       "      <th>App Usage Time (min/day)</th>\n",
       "      <th>Screen On Time (hours/day)</th>\n",
       "      <th>Battery Drain (mAh/day)</th>\n",
       "      <th>Number of Apps Installed</th>\n",
       "      <th>Data Usage (MB/day)</th>\n",
       "      <th>Age</th>\n",
       "      <th>Gender</th>\n",
       "      <th>User Behavior Class</th>\n",
       "    </tr>\n",
       "  </thead>\n",
       "  <tbody>\n",
       "    <tr>\n",
       "      <th>0</th>\n",
       "      <td>1</td>\n",
       "      <td>Google Pixel 5</td>\n",
       "      <td>Android</td>\n",
       "      <td>393</td>\n",
       "      <td>6.4</td>\n",
       "      <td>1872</td>\n",
       "      <td>67</td>\n",
       "      <td>1122</td>\n",
       "      <td>40</td>\n",
       "      <td>Male</td>\n",
       "      <td>4</td>\n",
       "    </tr>\n",
       "    <tr>\n",
       "      <th>1</th>\n",
       "      <td>2</td>\n",
       "      <td>OnePlus 9</td>\n",
       "      <td>Android</td>\n",
       "      <td>268</td>\n",
       "      <td>4.7</td>\n",
       "      <td>1331</td>\n",
       "      <td>42</td>\n",
       "      <td>944</td>\n",
       "      <td>47</td>\n",
       "      <td>Female</td>\n",
       "      <td>3</td>\n",
       "    </tr>\n",
       "    <tr>\n",
       "      <th>2</th>\n",
       "      <td>3</td>\n",
       "      <td>Xiaomi Mi 11</td>\n",
       "      <td>Android</td>\n",
       "      <td>154</td>\n",
       "      <td>4.0</td>\n",
       "      <td>761</td>\n",
       "      <td>32</td>\n",
       "      <td>322</td>\n",
       "      <td>42</td>\n",
       "      <td>Male</td>\n",
       "      <td>2</td>\n",
       "    </tr>\n",
       "    <tr>\n",
       "      <th>3</th>\n",
       "      <td>4</td>\n",
       "      <td>Google Pixel 5</td>\n",
       "      <td>Android</td>\n",
       "      <td>239</td>\n",
       "      <td>4.8</td>\n",
       "      <td>1676</td>\n",
       "      <td>56</td>\n",
       "      <td>871</td>\n",
       "      <td>20</td>\n",
       "      <td>Male</td>\n",
       "      <td>3</td>\n",
       "    </tr>\n",
       "    <tr>\n",
       "      <th>4</th>\n",
       "      <td>5</td>\n",
       "      <td>iPhone 12</td>\n",
       "      <td>iOS</td>\n",
       "      <td>187</td>\n",
       "      <td>4.3</td>\n",
       "      <td>1367</td>\n",
       "      <td>58</td>\n",
       "      <td>988</td>\n",
       "      <td>31</td>\n",
       "      <td>Female</td>\n",
       "      <td>3</td>\n",
       "    </tr>\n",
       "  </tbody>\n",
       "</table>\n",
       "</div>"
      ],
      "text/plain": [
       "   User ID    Device Model Operating System  App Usage Time (min/day)  \\\n",
       "0        1  Google Pixel 5          Android                       393   \n",
       "1        2       OnePlus 9          Android                       268   \n",
       "2        3    Xiaomi Mi 11          Android                       154   \n",
       "3        4  Google Pixel 5          Android                       239   \n",
       "4        5       iPhone 12              iOS                       187   \n",
       "\n",
       "   Screen On Time (hours/day)  Battery Drain (mAh/day)  \\\n",
       "0                         6.4                     1872   \n",
       "1                         4.7                     1331   \n",
       "2                         4.0                      761   \n",
       "3                         4.8                     1676   \n",
       "4                         4.3                     1367   \n",
       "\n",
       "   Number of Apps Installed  Data Usage (MB/day)  Age  Gender  \\\n",
       "0                        67                 1122   40    Male   \n",
       "1                        42                  944   47  Female   \n",
       "2                        32                  322   42    Male   \n",
       "3                        56                  871   20    Male   \n",
       "4                        58                  988   31  Female   \n",
       "\n",
       "   User Behavior Class  \n",
       "0                    4  \n",
       "1                    3  \n",
       "2                    2  \n",
       "3                    3  \n",
       "4                    3  "
      ]
     },
     "execution_count": 10,
     "metadata": {},
     "output_type": "execute_result"
    }
   ],
   "source": [
    "# Load the dataset\n",
    "file_path = 'user_behavior_dataset.csv'\n",
    "df = pd.read_csv(file_path)\n",
    "df.head()"
   ]
  },
  {
   "cell_type": "code",
   "execution_count": 11,
   "id": "4c76c86c",
   "metadata": {},
   "outputs": [
    {
     "name": "stdout",
     "output_type": "stream",
     "text": [
      "Dataset Overview:\n",
      "   User ID    Device Model Operating System  App Usage Time (min/day)  \\\n",
      "0        1  Google Pixel 5          Android                       393   \n",
      "1        2       OnePlus 9          Android                       268   \n",
      "2        3    Xiaomi Mi 11          Android                       154   \n",
      "3        4  Google Pixel 5          Android                       239   \n",
      "4        5       iPhone 12              iOS                       187   \n",
      "\n",
      "   Screen On Time (hours/day)  Battery Drain (mAh/day)  \\\n",
      "0                         6.4                     1872   \n",
      "1                         4.7                     1331   \n",
      "2                         4.0                      761   \n",
      "3                         4.8                     1676   \n",
      "4                         4.3                     1367   \n",
      "\n",
      "   Number of Apps Installed  Data Usage (MB/day)  Age  Gender  \\\n",
      "0                        67                 1122   40    Male   \n",
      "1                        42                  944   47  Female   \n",
      "2                        32                  322   42    Male   \n",
      "3                        56                  871   20    Male   \n",
      "4                        58                  988   31  Female   \n",
      "\n",
      "   User Behavior Class  \n",
      "0                    4  \n",
      "1                    3  \n",
      "2                    2  \n",
      "3                    3  \n",
      "4                    3  \n"
     ]
    }
   ],
   "source": [
    "# Explore dataset\n",
    "print(\"Dataset Overview:\")\n",
    "print(df.head())"
   ]
  },
  {
   "cell_type": "code",
   "execution_count": 12,
   "id": "6783759f",
   "metadata": {},
   "outputs": [
    {
     "name": "stdout",
     "output_type": "stream",
     "text": [
      "\n",
      "Dataset Info:\n",
      "<class 'pandas.core.frame.DataFrame'>\n",
      "RangeIndex: 700 entries, 0 to 699\n",
      "Data columns (total 11 columns):\n",
      " #   Column                      Non-Null Count  Dtype  \n",
      "---  ------                      --------------  -----  \n",
      " 0   User ID                     700 non-null    int64  \n",
      " 1   Device Model                700 non-null    object \n",
      " 2   Operating System            700 non-null    object \n",
      " 3   App Usage Time (min/day)    700 non-null    int64  \n",
      " 4   Screen On Time (hours/day)  700 non-null    float64\n",
      " 5   Battery Drain (mAh/day)     700 non-null    int64  \n",
      " 6   Number of Apps Installed    700 non-null    int64  \n",
      " 7   Data Usage (MB/day)         700 non-null    int64  \n",
      " 8   Age                         700 non-null    int64  \n",
      " 9   Gender                      700 non-null    object \n",
      " 10  User Behavior Class         700 non-null    int64  \n",
      "dtypes: float64(1), int64(7), object(3)\n",
      "memory usage: 60.3+ KB\n",
      "None\n"
     ]
    }
   ],
   "source": [
    "print(\"\\nDataset Info:\")\n",
    "print(df.info())"
   ]
  },
  {
   "cell_type": "code",
   "execution_count": 15,
   "id": "dbad9f0f",
   "metadata": {},
   "outputs": [
    {
     "data": {
      "text/plain": [
       "['App Usage Time (min/day)',\n",
       " 'Screen On Time (hours/day)',\n",
       " 'Battery Drain (mAh/day)',\n",
       " 'Number of Apps Installed',\n",
       " 'Data Usage (MB/day)',\n",
       " 'Age']"
      ]
     },
     "execution_count": 15,
     "metadata": {},
     "output_type": "execute_result"
    }
   ],
   "source": [
    "# Data Preprocessing\n",
    "# Separate numerical and categorical columns\n",
    "numerical_cols = ['App Usage Time (min/day)', 'Screen On Time (hours/day)',\n",
    "                  'Battery Drain (mAh/day)', 'Number of Apps Installed',\n",
    "                  'Data Usage (MB/day)', 'Age']\n",
    "categorical_cols = ['Gender', 'Device Model', 'Operating System']\n",
    "numerical_cols"
   ]
  },
  {
   "cell_type": "code",
   "execution_count": 16,
   "id": "c5e32185",
   "metadata": {},
   "outputs": [
    {
     "data": {
      "text/plain": [
       "['Gender', 'Device Model', 'Operating System']"
      ]
     },
     "execution_count": 16,
     "metadata": {},
     "output_type": "execute_result"
    }
   ],
   "source": [
    "categorical_cols"
   ]
  },
  {
   "cell_type": "code",
   "execution_count": 17,
   "id": "b34a3be5",
   "metadata": {},
   "outputs": [],
   "source": [
    "# Handle missing values for numerical columns (using median)\n",
    "for col in numerical_cols:\n",
    "    df[col] = df[col].fillna(df[col].median())"
   ]
  },
  {
   "cell_type": "code",
   "execution_count": 18,
   "id": "30eaf2a2",
   "metadata": {},
   "outputs": [],
   "source": [
    "# Handle missing values for categorical columns (using mode)\n",
    "for col in categorical_cols:\n",
    "    df[col] = df[col].fillna(df[col].mode()[0])"
   ]
  },
  {
   "cell_type": "code",
   "execution_count": 19,
   "id": "892b9fd4",
   "metadata": {},
   "outputs": [
    {
     "name": "stdout",
     "output_type": "stream",
     "text": [
      "Missing values after handling:\n",
      "User ID                       0\n",
      "Device Model                  0\n",
      "Operating System              0\n",
      "App Usage Time (min/day)      0\n",
      "Screen On Time (hours/day)    0\n",
      "Battery Drain (mAh/day)       0\n",
      "Number of Apps Installed      0\n",
      "Data Usage (MB/day)           0\n",
      "Age                           0\n",
      "Gender                        0\n",
      "User Behavior Class           0\n",
      "dtype: int64\n"
     ]
    }
   ],
   "source": [
    "# Verify there are no remaining missing values\n",
    "print(\"Missing values after handling:\")\n",
    "print(df.isnull().sum())"
   ]
  },
  {
   "cell_type": "code",
   "execution_count": 20,
   "id": "5f78a132",
   "metadata": {},
   "outputs": [],
   "source": [
    "# Encode categorical variables\n",
    "label_encoders = {}\n",
    "for col in categorical_cols:\n",
    "    le = LabelEncoder()\n",
    "    df[col] = le.fit_transform(df[col])\n",
    "    label_encoders[col] = le"
   ]
  },
  {
   "cell_type": "code",
   "execution_count": 21,
   "id": "c7eab843",
   "metadata": {},
   "outputs": [
    {
     "data": {
      "text/plain": [
       "{'Gender': LabelEncoder(),\n",
       " 'Device Model': LabelEncoder(),\n",
       " 'Operating System': LabelEncoder()}"
      ]
     },
     "execution_count": 21,
     "metadata": {},
     "output_type": "execute_result"
    }
   ],
   "source": [
    "label_encoders"
   ]
  },
  {
   "cell_type": "code",
   "execution_count": 22,
   "id": "c377a514",
   "metadata": {},
   "outputs": [],
   "source": [
    "# Normalize numerical features\n",
    "scaler = MinMaxScaler()\n",
    "df[numerical_cols] = scaler.fit_transform(df[numerical_cols])"
   ]
  },
  {
   "cell_type": "code",
   "execution_count": 23,
   "id": "cd4cbbd6",
   "metadata": {},
   "outputs": [
    {
     "data": {
      "text/html": [
       "<style>#sk-container-id-1 {color: black;}#sk-container-id-1 pre{padding: 0;}#sk-container-id-1 div.sk-toggleable {background-color: white;}#sk-container-id-1 label.sk-toggleable__label {cursor: pointer;display: block;width: 100%;margin-bottom: 0;padding: 0.3em;box-sizing: border-box;text-align: center;}#sk-container-id-1 label.sk-toggleable__label-arrow:before {content: \"▸\";float: left;margin-right: 0.25em;color: #696969;}#sk-container-id-1 label.sk-toggleable__label-arrow:hover:before {color: black;}#sk-container-id-1 div.sk-estimator:hover label.sk-toggleable__label-arrow:before {color: black;}#sk-container-id-1 div.sk-toggleable__content {max-height: 0;max-width: 0;overflow: hidden;text-align: left;background-color: #f0f8ff;}#sk-container-id-1 div.sk-toggleable__content pre {margin: 0.2em;color: black;border-radius: 0.25em;background-color: #f0f8ff;}#sk-container-id-1 input.sk-toggleable__control:checked~div.sk-toggleable__content {max-height: 200px;max-width: 100%;overflow: auto;}#sk-container-id-1 input.sk-toggleable__control:checked~label.sk-toggleable__label-arrow:before {content: \"▾\";}#sk-container-id-1 div.sk-estimator input.sk-toggleable__control:checked~label.sk-toggleable__label {background-color: #d4ebff;}#sk-container-id-1 div.sk-label input.sk-toggleable__control:checked~label.sk-toggleable__label {background-color: #d4ebff;}#sk-container-id-1 input.sk-hidden--visually {border: 0;clip: rect(1px 1px 1px 1px);clip: rect(1px, 1px, 1px, 1px);height: 1px;margin: -1px;overflow: hidden;padding: 0;position: absolute;width: 1px;}#sk-container-id-1 div.sk-estimator {font-family: monospace;background-color: #f0f8ff;border: 1px dotted black;border-radius: 0.25em;box-sizing: border-box;margin-bottom: 0.5em;}#sk-container-id-1 div.sk-estimator:hover {background-color: #d4ebff;}#sk-container-id-1 div.sk-parallel-item::after {content: \"\";width: 100%;border-bottom: 1px solid gray;flex-grow: 1;}#sk-container-id-1 div.sk-label:hover label.sk-toggleable__label {background-color: #d4ebff;}#sk-container-id-1 div.sk-serial::before {content: \"\";position: absolute;border-left: 1px solid gray;box-sizing: border-box;top: 0;bottom: 0;left: 50%;z-index: 0;}#sk-container-id-1 div.sk-serial {display: flex;flex-direction: column;align-items: center;background-color: white;padding-right: 0.2em;padding-left: 0.2em;position: relative;}#sk-container-id-1 div.sk-item {position: relative;z-index: 1;}#sk-container-id-1 div.sk-parallel {display: flex;align-items: stretch;justify-content: center;background-color: white;position: relative;}#sk-container-id-1 div.sk-item::before, #sk-container-id-1 div.sk-parallel-item::before {content: \"\";position: absolute;border-left: 1px solid gray;box-sizing: border-box;top: 0;bottom: 0;left: 50%;z-index: -1;}#sk-container-id-1 div.sk-parallel-item {display: flex;flex-direction: column;z-index: 1;position: relative;background-color: white;}#sk-container-id-1 div.sk-parallel-item:first-child::after {align-self: flex-end;width: 50%;}#sk-container-id-1 div.sk-parallel-item:last-child::after {align-self: flex-start;width: 50%;}#sk-container-id-1 div.sk-parallel-item:only-child::after {width: 0;}#sk-container-id-1 div.sk-dashed-wrapped {border: 1px dashed gray;margin: 0 0.4em 0.5em 0.4em;box-sizing: border-box;padding-bottom: 0.4em;background-color: white;}#sk-container-id-1 div.sk-label label {font-family: monospace;font-weight: bold;display: inline-block;line-height: 1.2em;}#sk-container-id-1 div.sk-label-container {text-align: center;}#sk-container-id-1 div.sk-container {/* jupyter's `normalize.less` sets `[hidden] { display: none; }` but bootstrap.min.css set `[hidden] { display: none !important; }` so we also need the `!important` here to be able to override the default hidden behavior on the sphinx rendered scikit-learn.org. See: https://github.com/scikit-learn/scikit-learn/issues/21755 */display: inline-block !important;position: relative;}#sk-container-id-1 div.sk-text-repr-fallback {display: none;}</style><div id=\"sk-container-id-1\" class=\"sk-top-container\"><div class=\"sk-text-repr-fallback\"><pre>MinMaxScaler()</pre><b>In a Jupyter environment, please rerun this cell to show the HTML representation or trust the notebook. <br />On GitHub, the HTML representation is unable to render, please try loading this page with nbviewer.org.</b></div><div class=\"sk-container\" hidden><div class=\"sk-item\"><div class=\"sk-estimator sk-toggleable\"><input class=\"sk-toggleable__control sk-hidden--visually\" id=\"sk-estimator-id-1\" type=\"checkbox\" checked><label for=\"sk-estimator-id-1\" class=\"sk-toggleable__label sk-toggleable__label-arrow\">MinMaxScaler</label><div class=\"sk-toggleable__content\"><pre>MinMaxScaler()</pre></div></div></div></div></div>"
      ],
      "text/plain": [
       "MinMaxScaler()"
      ]
     },
     "execution_count": 23,
     "metadata": {},
     "output_type": "execute_result"
    }
   ],
   "source": [
    "scaler"
   ]
  },
  {
   "cell_type": "code",
   "execution_count": 24,
   "id": "da329d90",
   "metadata": {},
   "outputs": [],
   "source": [
    "# Prepare sequences for RNN\n",
    "sequence_length = 5\n",
    "features = df.drop(columns=['User Behavior Class']).values\n",
    "labels = df['User Behavior Class'].values"
   ]
  },
  {
   "cell_type": "code",
   "execution_count": 25,
   "id": "b3fba4a3",
   "metadata": {},
   "outputs": [
    {
     "data": {
      "text/plain": [
       "array([[1.00000000e+00, 0.00000000e+00, 0.00000000e+00, ...,\n",
       "        4.25887265e-01, 5.36585366e-01, 1.00000000e+00],\n",
       "       [2.00000000e+00, 1.00000000e+00, 0.00000000e+00, ...,\n",
       "        3.51565762e-01, 7.07317073e-01, 0.00000000e+00],\n",
       "       [3.00000000e+00, 3.00000000e+00, 0.00000000e+00, ...,\n",
       "        9.18580376e-02, 5.85365854e-01, 1.00000000e+00],\n",
       "       ...,\n",
       "       [6.98000000e+02, 0.00000000e+00, 0.00000000e+00, ...,\n",
       "        1.48225470e-01, 7.80487805e-01, 0.00000000e+00],\n",
       "       [6.99000000e+02, 2.00000000e+00, 0.00000000e+00, ...,\n",
       "        5.09394572e-02, 6.34146341e-01, 1.00000000e+00],\n",
       "       [7.00000000e+02, 1.00000000e+00, 0.00000000e+00, ...,\n",
       "        3.03131524e-01, 1.21951220e-01, 0.00000000e+00]])"
      ]
     },
     "execution_count": 25,
     "metadata": {},
     "output_type": "execute_result"
    }
   ],
   "source": [
    "features"
   ]
  },
  {
   "cell_type": "code",
   "execution_count": 27,
   "id": "39f27340",
   "metadata": {},
   "outputs": [
    {
     "data": {
      "text/plain": [
       "array([4, 3, 2, 3, 3, 2, 4, 5, 4, 4, 1, 3, 4, 3, 3, 5, 2, 3, 1, 5, 2, 5,\n",
       "       4, 3, 3, 2, 4, 5, 4, 4, 3, 3, 3, 1, 5, 1, 2, 5, 4, 4, 3, 5, 2, 2,\n",
       "       2, 5, 5, 2, 5, 5, 4, 3, 2, 2, 5, 1, 1, 5, 4, 4, 5, 4, 1, 5, 4, 3,\n",
       "       3, 2, 5, 1, 4, 5, 4, 1, 1, 3, 1, 2, 1, 3, 5, 2, 4, 1, 3, 4, 2, 1,\n",
       "       2, 4, 2, 3, 1, 2, 4, 4, 5, 5, 1, 3, 1, 3, 2, 3, 2, 1, 2, 1, 3, 3,\n",
       "       2, 5, 3, 2, 4, 2, 1, 3, 1, 2, 4, 5, 5, 5, 3, 5, 4, 3, 2, 2, 5, 4,\n",
       "       2, 1, 1, 5, 1, 3, 5, 5, 3, 4, 2, 1, 5, 3, 4, 1, 3, 2, 5, 1, 2, 4,\n",
       "       1, 2, 1, 4, 4, 2, 1, 1, 4, 1, 3, 5, 5, 1, 3, 5, 2, 1, 2, 4, 1, 3,\n",
       "       3, 3, 3, 5, 2, 4, 5, 1, 5, 5, 4, 1, 2, 1, 2, 1, 4, 3, 4, 3, 3, 2,\n",
       "       1, 2, 5, 2, 1, 1, 2, 4, 1, 2, 5, 3, 4, 5, 2, 1, 2, 5, 4, 5, 5, 2,\n",
       "       4, 2, 4, 5, 2, 5, 4, 3, 2, 4, 2, 5, 5, 2, 2, 1, 5, 4, 1, 5, 1, 5,\n",
       "       2, 4, 1, 3, 1, 4, 2, 1, 1, 4, 5, 2, 1, 4, 4, 3, 3, 5, 1, 4, 5, 1,\n",
       "       4, 5, 3, 5, 3, 4, 4, 3, 2, 2, 2, 5, 3, 3, 1, 4, 1, 1, 4, 1, 4, 5,\n",
       "       4, 3, 2, 1, 4, 1, 1, 3, 5, 1, 4, 2, 3, 2, 4, 3, 4, 5, 2, 2, 3, 4,\n",
       "       3, 4, 3, 4, 2, 2, 3, 1, 3, 2, 4, 5, 3, 3, 4, 1, 4, 3, 3, 1, 1, 5,\n",
       "       3, 2, 3, 4, 1, 5, 4, 1, 4, 1, 1, 5, 5, 3, 3, 4, 2, 1, 2, 4, 4, 1,\n",
       "       3, 4, 1, 1, 3, 5, 1, 3, 5, 5, 1, 4, 5, 4, 5, 5, 2, 2, 5, 5, 5, 5,\n",
       "       1, 1, 1, 4, 5, 2, 3, 5, 1, 2, 2, 4, 2, 1, 5, 2, 4, 4, 2, 4, 5, 4,\n",
       "       1, 5, 1, 1, 5, 2, 4, 5, 5, 4, 2, 4, 4, 4, 5, 5, 3, 3, 2, 2, 3, 5,\n",
       "       3, 1, 1, 2, 4, 1, 3, 2, 2, 2, 2, 5, 3, 2, 5, 1, 5, 2, 3, 1, 2, 2,\n",
       "       3, 3, 1, 3, 5, 4, 5, 3, 2, 1, 2, 5, 2, 1, 2, 1, 1, 3, 1, 2, 5, 2,\n",
       "       3, 3, 1, 3, 4, 3, 4, 1, 3, 5, 2, 3, 3, 4, 4, 3, 3, 3, 2, 5, 5, 1,\n",
       "       4, 1, 2, 3, 4, 5, 4, 2, 1, 4, 2, 5, 3, 2, 3, 2, 1, 4, 5, 3, 5, 4,\n",
       "       3, 1, 3, 5, 3, 5, 1, 2, 4, 2, 2, 1, 5, 2, 4, 1, 4, 5, 3, 3, 2, 1,\n",
       "       2, 3, 5, 4, 4, 3, 4, 2, 3, 5, 5, 5, 5, 2, 3, 3, 5, 1, 3, 2, 4, 2,\n",
       "       4, 2, 2, 4, 4, 3, 2, 3, 4, 5, 4, 2, 1, 1, 3, 1, 2, 1, 3, 4, 4, 4,\n",
       "       3, 5, 5, 2, 5, 4, 3, 1, 5, 2, 3, 1, 1, 2, 3, 4, 4, 2, 2, 5, 4, 3,\n",
       "       4, 5, 5, 2, 2, 3, 4, 1, 2, 2, 3, 4, 5, 3, 3, 5, 5, 1, 5, 1, 2, 2,\n",
       "       3, 3, 4, 3, 3, 1, 4, 1, 1, 1, 3, 3, 1, 4, 2, 3, 5, 2, 4, 2, 5, 1,\n",
       "       4, 5, 1, 1, 5, 2, 3, 2, 1, 1, 4, 3, 2, 1, 3, 1, 5, 2, 3, 3, 4, 5,\n",
       "       1, 2, 2, 4, 5, 3, 5, 3, 2, 2, 1, 4, 5, 1, 5, 1, 2, 2, 3, 1, 4, 4,\n",
       "       3, 1, 3, 4, 4, 4, 3, 5, 3, 2, 4, 5, 5, 2, 4, 2, 1, 3], dtype=int64)"
      ]
     },
     "execution_count": 27,
     "metadata": {},
     "output_type": "execute_result"
    }
   ],
   "source": [
    "labels"
   ]
  },
  {
   "cell_type": "code",
   "execution_count": 28,
   "id": "fba86525",
   "metadata": {},
   "outputs": [],
   "source": [
    "X, y = [], []\n",
    "for i in range(len(features) - sequence_length):\n",
    "    X.append(features[i:i+sequence_length])\n",
    "    y.append(labels[i+sequence_length])"
   ]
  },
  {
   "cell_type": "code",
   "execution_count": 29,
   "id": "e6d82e40",
   "metadata": {},
   "outputs": [],
   "source": [
    "X = np.array(X)\n",
    "y = np.array(y)"
   ]
  },
  {
   "cell_type": "code",
   "execution_count": 31,
   "id": "65b245c5",
   "metadata": {},
   "outputs": [
    {
     "data": {
      "text/plain": [
       "array([[[1.00000000e+00, 0.00000000e+00, 0.00000000e+00, ...,\n",
       "         4.25887265e-01, 5.36585366e-01, 1.00000000e+00],\n",
       "        [2.00000000e+00, 1.00000000e+00, 0.00000000e+00, ...,\n",
       "         3.51565762e-01, 7.07317073e-01, 0.00000000e+00],\n",
       "        [3.00000000e+00, 3.00000000e+00, 0.00000000e+00, ...,\n",
       "         9.18580376e-02, 5.85365854e-01, 1.00000000e+00],\n",
       "        [4.00000000e+00, 0.00000000e+00, 0.00000000e+00, ...,\n",
       "         3.21085595e-01, 4.87804878e-02, 1.00000000e+00],\n",
       "        [5.00000000e+00, 4.00000000e+00, 1.00000000e+00, ...,\n",
       "         3.69937370e-01, 3.17073171e-01, 0.00000000e+00]],\n",
       "\n",
       "       [[2.00000000e+00, 1.00000000e+00, 0.00000000e+00, ...,\n",
       "         3.51565762e-01, 7.07317073e-01, 0.00000000e+00],\n",
       "        [3.00000000e+00, 3.00000000e+00, 0.00000000e+00, ...,\n",
       "         9.18580376e-02, 5.85365854e-01, 1.00000000e+00],\n",
       "        [4.00000000e+00, 0.00000000e+00, 0.00000000e+00, ...,\n",
       "         3.21085595e-01, 4.87804878e-02, 1.00000000e+00],\n",
       "        [5.00000000e+00, 4.00000000e+00, 1.00000000e+00, ...,\n",
       "         3.69937370e-01, 3.17073171e-01, 0.00000000e+00],\n",
       "        [6.00000000e+00, 0.00000000e+00, 0.00000000e+00, ...,\n",
       "         1.92901879e-01, 3.17073171e-01, 1.00000000e+00]],\n",
       "\n",
       "       [[3.00000000e+00, 3.00000000e+00, 0.00000000e+00, ...,\n",
       "         9.18580376e-02, 5.85365854e-01, 1.00000000e+00],\n",
       "        [4.00000000e+00, 0.00000000e+00, 0.00000000e+00, ...,\n",
       "         3.21085595e-01, 4.87804878e-02, 1.00000000e+00],\n",
       "        [5.00000000e+00, 4.00000000e+00, 1.00000000e+00, ...,\n",
       "         3.69937370e-01, 3.17073171e-01, 0.00000000e+00],\n",
       "        [6.00000000e+00, 0.00000000e+00, 0.00000000e+00, ...,\n",
       "         1.92901879e-01, 3.17073171e-01, 1.00000000e+00],\n",
       "        [7.00000000e+00, 2.00000000e+00, 0.00000000e+00, ...,\n",
       "         3.97494781e-01, 7.31707317e-02, 0.00000000e+00]],\n",
       "\n",
       "       ...,\n",
       "\n",
       "       [[6.93000000e+02, 3.00000000e+00, 0.00000000e+00, ...,\n",
       "         5.64926931e-01, 7.31707317e-01, 0.00000000e+00],\n",
       "        [6.94000000e+02, 3.00000000e+00, 0.00000000e+00, ...,\n",
       "         6.70981211e-01, 3.17073171e-01, 1.00000000e+00],\n",
       "        [6.95000000e+02, 2.00000000e+00, 0.00000000e+00, ...,\n",
       "         7.86221294e-01, 3.90243902e-01, 0.00000000e+00],\n",
       "        [6.96000000e+02, 4.00000000e+00, 1.00000000e+00, ...,\n",
       "         1.16492693e-01, 9.75609756e-02, 1.00000000e+00],\n",
       "        [6.97000000e+02, 3.00000000e+00, 0.00000000e+00, ...,\n",
       "         4.58872651e-01, 1.00000000e+00, 1.00000000e+00]],\n",
       "\n",
       "       [[6.94000000e+02, 3.00000000e+00, 0.00000000e+00, ...,\n",
       "         6.70981211e-01, 3.17073171e-01, 1.00000000e+00],\n",
       "        [6.95000000e+02, 2.00000000e+00, 0.00000000e+00, ...,\n",
       "         7.86221294e-01, 3.90243902e-01, 0.00000000e+00],\n",
       "        [6.96000000e+02, 4.00000000e+00, 1.00000000e+00, ...,\n",
       "         1.16492693e-01, 9.75609756e-02, 1.00000000e+00],\n",
       "        [6.97000000e+02, 3.00000000e+00, 0.00000000e+00, ...,\n",
       "         4.58872651e-01, 1.00000000e+00, 1.00000000e+00],\n",
       "        [6.98000000e+02, 0.00000000e+00, 0.00000000e+00, ...,\n",
       "         1.48225470e-01, 7.80487805e-01, 0.00000000e+00]],\n",
       "\n",
       "       [[6.95000000e+02, 2.00000000e+00, 0.00000000e+00, ...,\n",
       "         7.86221294e-01, 3.90243902e-01, 0.00000000e+00],\n",
       "        [6.96000000e+02, 4.00000000e+00, 1.00000000e+00, ...,\n",
       "         1.16492693e-01, 9.75609756e-02, 1.00000000e+00],\n",
       "        [6.97000000e+02, 3.00000000e+00, 0.00000000e+00, ...,\n",
       "         4.58872651e-01, 1.00000000e+00, 1.00000000e+00],\n",
       "        [6.98000000e+02, 0.00000000e+00, 0.00000000e+00, ...,\n",
       "         1.48225470e-01, 7.80487805e-01, 0.00000000e+00],\n",
       "        [6.99000000e+02, 2.00000000e+00, 0.00000000e+00, ...,\n",
       "         5.09394572e-02, 6.34146341e-01, 1.00000000e+00]]])"
      ]
     },
     "execution_count": 31,
     "metadata": {},
     "output_type": "execute_result"
    }
   ],
   "source": [
    "X"
   ]
  },
  {
   "cell_type": "code",
   "execution_count": 32,
   "id": "43b204a7",
   "metadata": {},
   "outputs": [
    {
     "data": {
      "text/plain": [
       "array([2, 4, 5, 4, 4, 1, 3, 4, 3, 3, 5, 2, 3, 1, 5, 2, 5, 4, 3, 3, 2, 4,\n",
       "       5, 4, 4, 3, 3, 3, 1, 5, 1, 2, 5, 4, 4, 3, 5, 2, 2, 2, 5, 5, 2, 5,\n",
       "       5, 4, 3, 2, 2, 5, 1, 1, 5, 4, 4, 5, 4, 1, 5, 4, 3, 3, 2, 5, 1, 4,\n",
       "       5, 4, 1, 1, 3, 1, 2, 1, 3, 5, 2, 4, 1, 3, 4, 2, 1, 2, 4, 2, 3, 1,\n",
       "       2, 4, 4, 5, 5, 1, 3, 1, 3, 2, 3, 2, 1, 2, 1, 3, 3, 2, 5, 3, 2, 4,\n",
       "       2, 1, 3, 1, 2, 4, 5, 5, 5, 3, 5, 4, 3, 2, 2, 5, 4, 2, 1, 1, 5, 1,\n",
       "       3, 5, 5, 3, 4, 2, 1, 5, 3, 4, 1, 3, 2, 5, 1, 2, 4, 1, 2, 1, 4, 4,\n",
       "       2, 1, 1, 4, 1, 3, 5, 5, 1, 3, 5, 2, 1, 2, 4, 1, 3, 3, 3, 3, 5, 2,\n",
       "       4, 5, 1, 5, 5, 4, 1, 2, 1, 2, 1, 4, 3, 4, 3, 3, 2, 1, 2, 5, 2, 1,\n",
       "       1, 2, 4, 1, 2, 5, 3, 4, 5, 2, 1, 2, 5, 4, 5, 5, 2, 4, 2, 4, 5, 2,\n",
       "       5, 4, 3, 2, 4, 2, 5, 5, 2, 2, 1, 5, 4, 1, 5, 1, 5, 2, 4, 1, 3, 1,\n",
       "       4, 2, 1, 1, 4, 5, 2, 1, 4, 4, 3, 3, 5, 1, 4, 5, 1, 4, 5, 3, 5, 3,\n",
       "       4, 4, 3, 2, 2, 2, 5, 3, 3, 1, 4, 1, 1, 4, 1, 4, 5, 4, 3, 2, 1, 4,\n",
       "       1, 1, 3, 5, 1, 4, 2, 3, 2, 4, 3, 4, 5, 2, 2, 3, 4, 3, 4, 3, 4, 2,\n",
       "       2, 3, 1, 3, 2, 4, 5, 3, 3, 4, 1, 4, 3, 3, 1, 1, 5, 3, 2, 3, 4, 1,\n",
       "       5, 4, 1, 4, 1, 1, 5, 5, 3, 3, 4, 2, 1, 2, 4, 4, 1, 3, 4, 1, 1, 3,\n",
       "       5, 1, 3, 5, 5, 1, 4, 5, 4, 5, 5, 2, 2, 5, 5, 5, 5, 1, 1, 1, 4, 5,\n",
       "       2, 3, 5, 1, 2, 2, 4, 2, 1, 5, 2, 4, 4, 2, 4, 5, 4, 1, 5, 1, 1, 5,\n",
       "       2, 4, 5, 5, 4, 2, 4, 4, 4, 5, 5, 3, 3, 2, 2, 3, 5, 3, 1, 1, 2, 4,\n",
       "       1, 3, 2, 2, 2, 2, 5, 3, 2, 5, 1, 5, 2, 3, 1, 2, 2, 3, 3, 1, 3, 5,\n",
       "       4, 5, 3, 2, 1, 2, 5, 2, 1, 2, 1, 1, 3, 1, 2, 5, 2, 3, 3, 1, 3, 4,\n",
       "       3, 4, 1, 3, 5, 2, 3, 3, 4, 4, 3, 3, 3, 2, 5, 5, 1, 4, 1, 2, 3, 4,\n",
       "       5, 4, 2, 1, 4, 2, 5, 3, 2, 3, 2, 1, 4, 5, 3, 5, 4, 3, 1, 3, 5, 3,\n",
       "       5, 1, 2, 4, 2, 2, 1, 5, 2, 4, 1, 4, 5, 3, 3, 2, 1, 2, 3, 5, 4, 4,\n",
       "       3, 4, 2, 3, 5, 5, 5, 5, 2, 3, 3, 5, 1, 3, 2, 4, 2, 4, 2, 2, 4, 4,\n",
       "       3, 2, 3, 4, 5, 4, 2, 1, 1, 3, 1, 2, 1, 3, 4, 4, 4, 3, 5, 5, 2, 5,\n",
       "       4, 3, 1, 5, 2, 3, 1, 1, 2, 3, 4, 4, 2, 2, 5, 4, 3, 4, 5, 5, 2, 2,\n",
       "       3, 4, 1, 2, 2, 3, 4, 5, 3, 3, 5, 5, 1, 5, 1, 2, 2, 3, 3, 4, 3, 3,\n",
       "       1, 4, 1, 1, 1, 3, 3, 1, 4, 2, 3, 5, 2, 4, 2, 5, 1, 4, 5, 1, 1, 5,\n",
       "       2, 3, 2, 1, 1, 4, 3, 2, 1, 3, 1, 5, 2, 3, 3, 4, 5, 1, 2, 2, 4, 5,\n",
       "       3, 5, 3, 2, 2, 1, 4, 5, 1, 5, 1, 2, 2, 3, 1, 4, 4, 3, 1, 3, 4, 4,\n",
       "       4, 3, 5, 3, 2, 4, 5, 5, 2, 4, 2, 1, 3], dtype=int64)"
      ]
     },
     "execution_count": 32,
     "metadata": {},
     "output_type": "execute_result"
    }
   ],
   "source": [
    "y"
   ]
  },
  {
   "cell_type": "code",
   "execution_count": 33,
   "id": "bcd7be53",
   "metadata": {},
   "outputs": [],
   "source": [
    "# Train-test split\n",
    "X_train, X_test, y_train, y_test = train_test_split(X, y, test_size=0.2, random_state=42, shuffle=False)"
   ]
  },
  {
   "cell_type": "code",
   "execution_count": 34,
   "id": "0d63e58e",
   "metadata": {},
   "outputs": [
    {
     "data": {
      "text/plain": [
       "array([[[1.00000000e+00, 0.00000000e+00, 0.00000000e+00, ...,\n",
       "         4.25887265e-01, 5.36585366e-01, 1.00000000e+00],\n",
       "        [2.00000000e+00, 1.00000000e+00, 0.00000000e+00, ...,\n",
       "         3.51565762e-01, 7.07317073e-01, 0.00000000e+00],\n",
       "        [3.00000000e+00, 3.00000000e+00, 0.00000000e+00, ...,\n",
       "         9.18580376e-02, 5.85365854e-01, 1.00000000e+00],\n",
       "        [4.00000000e+00, 0.00000000e+00, 0.00000000e+00, ...,\n",
       "         3.21085595e-01, 4.87804878e-02, 1.00000000e+00],\n",
       "        [5.00000000e+00, 4.00000000e+00, 1.00000000e+00, ...,\n",
       "         3.69937370e-01, 3.17073171e-01, 0.00000000e+00]],\n",
       "\n",
       "       [[2.00000000e+00, 1.00000000e+00, 0.00000000e+00, ...,\n",
       "         3.51565762e-01, 7.07317073e-01, 0.00000000e+00],\n",
       "        [3.00000000e+00, 3.00000000e+00, 0.00000000e+00, ...,\n",
       "         9.18580376e-02, 5.85365854e-01, 1.00000000e+00],\n",
       "        [4.00000000e+00, 0.00000000e+00, 0.00000000e+00, ...,\n",
       "         3.21085595e-01, 4.87804878e-02, 1.00000000e+00],\n",
       "        [5.00000000e+00, 4.00000000e+00, 1.00000000e+00, ...,\n",
       "         3.69937370e-01, 3.17073171e-01, 0.00000000e+00],\n",
       "        [6.00000000e+00, 0.00000000e+00, 0.00000000e+00, ...,\n",
       "         1.92901879e-01, 3.17073171e-01, 1.00000000e+00]],\n",
       "\n",
       "       [[3.00000000e+00, 3.00000000e+00, 0.00000000e+00, ...,\n",
       "         9.18580376e-02, 5.85365854e-01, 1.00000000e+00],\n",
       "        [4.00000000e+00, 0.00000000e+00, 0.00000000e+00, ...,\n",
       "         3.21085595e-01, 4.87804878e-02, 1.00000000e+00],\n",
       "        [5.00000000e+00, 4.00000000e+00, 1.00000000e+00, ...,\n",
       "         3.69937370e-01, 3.17073171e-01, 0.00000000e+00],\n",
       "        [6.00000000e+00, 0.00000000e+00, 0.00000000e+00, ...,\n",
       "         1.92901879e-01, 3.17073171e-01, 1.00000000e+00],\n",
       "        [7.00000000e+00, 2.00000000e+00, 0.00000000e+00, ...,\n",
       "         3.97494781e-01, 7.31707317e-02, 0.00000000e+00]],\n",
       "\n",
       "       ...,\n",
       "\n",
       "       [[5.54000000e+02, 2.00000000e+00, 0.00000000e+00, ...,\n",
       "         4.42588727e-01, 4.63414634e-01, 0.00000000e+00],\n",
       "        [5.55000000e+02, 4.00000000e+00, 1.00000000e+00, ...,\n",
       "         4.77661795e-01, 2.43902439e-02, 0.00000000e+00],\n",
       "        [5.56000000e+02, 3.00000000e+00, 0.00000000e+00, ...,\n",
       "         3.63256785e-01, 3.41463415e-01, 0.00000000e+00],\n",
       "        [5.57000000e+02, 4.00000000e+00, 1.00000000e+00, ...,\n",
       "         1.11899791e-01, 5.36585366e-01, 0.00000000e+00],\n",
       "        [5.58000000e+02, 2.00000000e+00, 0.00000000e+00, ...,\n",
       "         2.24634656e-01, 2.19512195e-01, 1.00000000e+00]],\n",
       "\n",
       "       [[5.55000000e+02, 4.00000000e+00, 1.00000000e+00, ...,\n",
       "         4.77661795e-01, 2.43902439e-02, 0.00000000e+00],\n",
       "        [5.56000000e+02, 3.00000000e+00, 0.00000000e+00, ...,\n",
       "         3.63256785e-01, 3.41463415e-01, 0.00000000e+00],\n",
       "        [5.57000000e+02, 4.00000000e+00, 1.00000000e+00, ...,\n",
       "         1.11899791e-01, 5.36585366e-01, 0.00000000e+00],\n",
       "        [5.58000000e+02, 2.00000000e+00, 0.00000000e+00, ...,\n",
       "         2.24634656e-01, 2.19512195e-01, 1.00000000e+00],\n",
       "        [5.59000000e+02, 0.00000000e+00, 0.00000000e+00, ...,\n",
       "         3.98329854e-01, 9.02439024e-01, 1.00000000e+00]],\n",
       "\n",
       "       [[5.56000000e+02, 3.00000000e+00, 0.00000000e+00, ...,\n",
       "         3.63256785e-01, 3.41463415e-01, 0.00000000e+00],\n",
       "        [5.57000000e+02, 4.00000000e+00, 1.00000000e+00, ...,\n",
       "         1.11899791e-01, 5.36585366e-01, 0.00000000e+00],\n",
       "        [5.58000000e+02, 2.00000000e+00, 0.00000000e+00, ...,\n",
       "         2.24634656e-01, 2.19512195e-01, 1.00000000e+00],\n",
       "        [5.59000000e+02, 0.00000000e+00, 0.00000000e+00, ...,\n",
       "         3.98329854e-01, 9.02439024e-01, 1.00000000e+00],\n",
       "        [5.60000000e+02, 1.00000000e+00, 0.00000000e+00, ...,\n",
       "         7.34029228e-01, 7.07317073e-01, 1.00000000e+00]]])"
      ]
     },
     "execution_count": 34,
     "metadata": {},
     "output_type": "execute_result"
    }
   ],
   "source": [
    "X_train"
   ]
  },
  {
   "cell_type": "code",
   "execution_count": 35,
   "id": "521ea14b",
   "metadata": {},
   "outputs": [
    {
     "name": "stdout",
     "output_type": "stream",
     "text": [
      "Baseline MAE: 1.2734767996149956\n",
      "Baseline MSE: 2.177265922659539\n"
     ]
    }
   ],
   "source": [
    "# Baseline Model (Simple Linear Regression for Benchmark)\n",
    "from sklearn.linear_model import LinearRegression\n",
    "baseline_model = LinearRegression()\n",
    "baseline_model.fit(X_train.reshape(X_train.shape[0], -1), y_train)\n",
    "y_pred_baseline = baseline_model.predict(X_test.reshape(X_test.shape[0], -1))\n",
    "print(\"Baseline MAE:\", mean_absolute_error(y_test, y_pred_baseline))\n",
    "print(\"Baseline MSE:\", mean_squared_error(y_test, y_pred_baseline))"
   ]
  },
  {
   "cell_type": "code",
   "execution_count": 36,
   "id": "6ceb77e6",
   "metadata": {},
   "outputs": [
    {
     "name": "stderr",
     "output_type": "stream",
     "text": [
      "C:\\Users\\rsmit\\anaconda3\\Lib\\site-packages\\keras\\src\\layers\\rnn\\rnn.py:204: UserWarning: Do not pass an `input_shape`/`input_dim` argument to a layer. When using Sequential models, prefer using an `Input(shape)` object as the first layer in the model instead.\n",
      "  super().__init__(**kwargs)\n"
     ]
    }
   ],
   "source": [
    "# RNN Model\n",
    "model = Sequential([\n",
    "    LSTM(64, return_sequences=True, input_shape=(X_train.shape[1], X_train.shape[2])),\n",
    "    Dropout(0.2),\n",
    "    LSTM(32),\n",
    "    Dropout(0.2),\n",
    "    Dense(1, activation='linear')\n",
    "])"
   ]
  },
  {
   "cell_type": "code",
   "execution_count": 37,
   "id": "b09833b6",
   "metadata": {},
   "outputs": [
    {
     "data": {
      "text/html": [
       "<pre style=\"white-space:pre;overflow-x:auto;line-height:normal;font-family:Menlo,'DejaVu Sans Mono',consolas,'Courier New',monospace\"><span style=\"font-weight: bold\">Model: \"sequential\"</span>\n",
       "</pre>\n"
      ],
      "text/plain": [
       "\u001b[1mModel: \"sequential\"\u001b[0m\n"
      ]
     },
     "metadata": {},
     "output_type": "display_data"
    },
    {
     "data": {
      "text/html": [
       "<pre style=\"white-space:pre;overflow-x:auto;line-height:normal;font-family:Menlo,'DejaVu Sans Mono',consolas,'Courier New',monospace\">┏━━━━━━━━━━━━━━━━━━━━━━━━━━━━━━━━━┳━━━━━━━━━━━━━━━━━━━━━━━━┳━━━━━━━━━━━━━━━┓\n",
       "┃<span style=\"font-weight: bold\"> Layer (type)                    </span>┃<span style=\"font-weight: bold\"> Output Shape           </span>┃<span style=\"font-weight: bold\">       Param # </span>┃\n",
       "┡━━━━━━━━━━━━━━━━━━━━━━━━━━━━━━━━━╇━━━━━━━━━━━━━━━━━━━━━━━━╇━━━━━━━━━━━━━━━┩\n",
       "│ lstm (<span style=\"color: #0087ff; text-decoration-color: #0087ff\">LSTM</span>)                     │ (<span style=\"color: #00d7ff; text-decoration-color: #00d7ff\">None</span>, <span style=\"color: #00af00; text-decoration-color: #00af00\">5</span>, <span style=\"color: #00af00; text-decoration-color: #00af00\">64</span>)          │        <span style=\"color: #00af00; text-decoration-color: #00af00\">19,200</span> │\n",
       "├─────────────────────────────────┼────────────────────────┼───────────────┤\n",
       "│ dropout (<span style=\"color: #0087ff; text-decoration-color: #0087ff\">Dropout</span>)               │ (<span style=\"color: #00d7ff; text-decoration-color: #00d7ff\">None</span>, <span style=\"color: #00af00; text-decoration-color: #00af00\">5</span>, <span style=\"color: #00af00; text-decoration-color: #00af00\">64</span>)          │             <span style=\"color: #00af00; text-decoration-color: #00af00\">0</span> │\n",
       "├─────────────────────────────────┼────────────────────────┼───────────────┤\n",
       "│ lstm_1 (<span style=\"color: #0087ff; text-decoration-color: #0087ff\">LSTM</span>)                   │ (<span style=\"color: #00d7ff; text-decoration-color: #00d7ff\">None</span>, <span style=\"color: #00af00; text-decoration-color: #00af00\">32</span>)             │        <span style=\"color: #00af00; text-decoration-color: #00af00\">12,416</span> │\n",
       "├─────────────────────────────────┼────────────────────────┼───────────────┤\n",
       "│ dropout_1 (<span style=\"color: #0087ff; text-decoration-color: #0087ff\">Dropout</span>)             │ (<span style=\"color: #00d7ff; text-decoration-color: #00d7ff\">None</span>, <span style=\"color: #00af00; text-decoration-color: #00af00\">32</span>)             │             <span style=\"color: #00af00; text-decoration-color: #00af00\">0</span> │\n",
       "├─────────────────────────────────┼────────────────────────┼───────────────┤\n",
       "│ dense (<span style=\"color: #0087ff; text-decoration-color: #0087ff\">Dense</span>)                   │ (<span style=\"color: #00d7ff; text-decoration-color: #00d7ff\">None</span>, <span style=\"color: #00af00; text-decoration-color: #00af00\">1</span>)              │            <span style=\"color: #00af00; text-decoration-color: #00af00\">33</span> │\n",
       "└─────────────────────────────────┴────────────────────────┴───────────────┘\n",
       "</pre>\n"
      ],
      "text/plain": [
       "┏━━━━━━━━━━━━━━━━━━━━━━━━━━━━━━━━━┳━━━━━━━━━━━━━━━━━━━━━━━━┳━━━━━━━━━━━━━━━┓\n",
       "┃\u001b[1m \u001b[0m\u001b[1mLayer (type)                   \u001b[0m\u001b[1m \u001b[0m┃\u001b[1m \u001b[0m\u001b[1mOutput Shape          \u001b[0m\u001b[1m \u001b[0m┃\u001b[1m \u001b[0m\u001b[1m      Param #\u001b[0m\u001b[1m \u001b[0m┃\n",
       "┡━━━━━━━━━━━━━━━━━━━━━━━━━━━━━━━━━╇━━━━━━━━━━━━━━━━━━━━━━━━╇━━━━━━━━━━━━━━━┩\n",
       "│ lstm (\u001b[38;5;33mLSTM\u001b[0m)                     │ (\u001b[38;5;45mNone\u001b[0m, \u001b[38;5;34m5\u001b[0m, \u001b[38;5;34m64\u001b[0m)          │        \u001b[38;5;34m19,200\u001b[0m │\n",
       "├─────────────────────────────────┼────────────────────────┼───────────────┤\n",
       "│ dropout (\u001b[38;5;33mDropout\u001b[0m)               │ (\u001b[38;5;45mNone\u001b[0m, \u001b[38;5;34m5\u001b[0m, \u001b[38;5;34m64\u001b[0m)          │             \u001b[38;5;34m0\u001b[0m │\n",
       "├─────────────────────────────────┼────────────────────────┼───────────────┤\n",
       "│ lstm_1 (\u001b[38;5;33mLSTM\u001b[0m)                   │ (\u001b[38;5;45mNone\u001b[0m, \u001b[38;5;34m32\u001b[0m)             │        \u001b[38;5;34m12,416\u001b[0m │\n",
       "├─────────────────────────────────┼────────────────────────┼───────────────┤\n",
       "│ dropout_1 (\u001b[38;5;33mDropout\u001b[0m)             │ (\u001b[38;5;45mNone\u001b[0m, \u001b[38;5;34m32\u001b[0m)             │             \u001b[38;5;34m0\u001b[0m │\n",
       "├─────────────────────────────────┼────────────────────────┼───────────────┤\n",
       "│ dense (\u001b[38;5;33mDense\u001b[0m)                   │ (\u001b[38;5;45mNone\u001b[0m, \u001b[38;5;34m1\u001b[0m)              │            \u001b[38;5;34m33\u001b[0m │\n",
       "└─────────────────────────────────┴────────────────────────┴───────────────┘\n"
      ]
     },
     "metadata": {},
     "output_type": "display_data"
    },
    {
     "data": {
      "text/html": [
       "<pre style=\"white-space:pre;overflow-x:auto;line-height:normal;font-family:Menlo,'DejaVu Sans Mono',consolas,'Courier New',monospace\"><span style=\"font-weight: bold\"> Total params: </span><span style=\"color: #00af00; text-decoration-color: #00af00\">31,649</span> (123.63 KB)\n",
       "</pre>\n"
      ],
      "text/plain": [
       "\u001b[1m Total params: \u001b[0m\u001b[38;5;34m31,649\u001b[0m (123.63 KB)\n"
      ]
     },
     "metadata": {},
     "output_type": "display_data"
    },
    {
     "data": {
      "text/html": [
       "<pre style=\"white-space:pre;overflow-x:auto;line-height:normal;font-family:Menlo,'DejaVu Sans Mono',consolas,'Courier New',monospace\"><span style=\"font-weight: bold\"> Trainable params: </span><span style=\"color: #00af00; text-decoration-color: #00af00\">31,649</span> (123.63 KB)\n",
       "</pre>\n"
      ],
      "text/plain": [
       "\u001b[1m Trainable params: \u001b[0m\u001b[38;5;34m31,649\u001b[0m (123.63 KB)\n"
      ]
     },
     "metadata": {},
     "output_type": "display_data"
    },
    {
     "data": {
      "text/html": [
       "<pre style=\"white-space:pre;overflow-x:auto;line-height:normal;font-family:Menlo,'DejaVu Sans Mono',consolas,'Courier New',monospace\"><span style=\"font-weight: bold\"> Non-trainable params: </span><span style=\"color: #00af00; text-decoration-color: #00af00\">0</span> (0.00 B)\n",
       "</pre>\n"
      ],
      "text/plain": [
       "\u001b[1m Non-trainable params: \u001b[0m\u001b[38;5;34m0\u001b[0m (0.00 B)\n"
      ]
     },
     "metadata": {},
     "output_type": "display_data"
    }
   ],
   "source": [
    "model.compile(optimizer='adam', loss='mse', metrics=['mae'])\n",
    "model.summary()"
   ]
  },
  {
   "cell_type": "code",
   "execution_count": 38,
   "id": "63a31aad",
   "metadata": {},
   "outputs": [
    {
     "name": "stdout",
     "output_type": "stream",
     "text": [
      "Epoch 1/20\n",
      "\u001b[1m14/14\u001b[0m \u001b[32m━━━━━━━━━━━━━━━━━━━━\u001b[0m\u001b[37m\u001b[0m \u001b[1m3s\u001b[0m 27ms/step - loss: 7.7767 - mae: 2.3601 - val_loss: 2.8310 - val_mae: 1.3426\n",
      "Epoch 2/20\n",
      "\u001b[1m14/14\u001b[0m \u001b[32m━━━━━━━━━━━━━━━━━━━━\u001b[0m\u001b[37m\u001b[0m \u001b[1m0s\u001b[0m 5ms/step - loss: 2.4345 - mae: 1.3057 - val_loss: 1.7555 - val_mae: 1.1162\n",
      "Epoch 3/20\n",
      "\u001b[1m14/14\u001b[0m \u001b[32m━━━━━━━━━━━━━━━━━━━━\u001b[0m\u001b[37m\u001b[0m \u001b[1m0s\u001b[0m 5ms/step - loss: 2.2273 - mae: 1.2935 - val_loss: 1.7520 - val_mae: 1.1135\n",
      "Epoch 4/20\n",
      "\u001b[1m14/14\u001b[0m \u001b[32m━━━━━━━━━━━━━━━━━━━━\u001b[0m\u001b[37m\u001b[0m \u001b[1m0s\u001b[0m 5ms/step - loss: 2.2400 - mae: 1.3115 - val_loss: 1.7415 - val_mae: 1.0813\n",
      "Epoch 5/20\n",
      "\u001b[1m14/14\u001b[0m \u001b[32m━━━━━━━━━━━━━━━━━━━━\u001b[0m\u001b[37m\u001b[0m \u001b[1m0s\u001b[0m 5ms/step - loss: 2.2628 - mae: 1.3210 - val_loss: 1.7453 - val_mae: 1.0911\n",
      "Epoch 6/20\n",
      "\u001b[1m14/14\u001b[0m \u001b[32m━━━━━━━━━━━━━━━━━━━━\u001b[0m\u001b[37m\u001b[0m \u001b[1m0s\u001b[0m 5ms/step - loss: 2.3556 - mae: 1.3396 - val_loss: 1.7448 - val_mae: 1.0902\n",
      "Epoch 7/20\n",
      "\u001b[1m14/14\u001b[0m \u001b[32m━━━━━━━━━━━━━━━━━━━━\u001b[0m\u001b[37m\u001b[0m \u001b[1m0s\u001b[0m 5ms/step - loss: 2.2422 - mae: 1.3079 - val_loss: 1.7439 - val_mae: 1.0888\n",
      "Epoch 8/20\n",
      "\u001b[1m14/14\u001b[0m \u001b[32m━━━━━━━━━━━━━━━━━━━━\u001b[0m\u001b[37m\u001b[0m \u001b[1m0s\u001b[0m 5ms/step - loss: 2.1422 - mae: 1.2505 - val_loss: 1.7505 - val_mae: 1.0997\n",
      "Epoch 9/20\n",
      "\u001b[1m14/14\u001b[0m \u001b[32m━━━━━━━━━━━━━━━━━━━━\u001b[0m\u001b[37m\u001b[0m \u001b[1m0s\u001b[0m 5ms/step - loss: 2.1317 - mae: 1.2784 - val_loss: 1.7430 - val_mae: 1.0869\n",
      "Epoch 10/20\n",
      "\u001b[1m14/14\u001b[0m \u001b[32m━━━━━━━━━━━━━━━━━━━━\u001b[0m\u001b[37m\u001b[0m \u001b[1m0s\u001b[0m 4ms/step - loss: 2.2185 - mae: 1.2968 - val_loss: 1.7403 - val_mae: 1.0897\n",
      "Epoch 11/20\n",
      "\u001b[1m14/14\u001b[0m \u001b[32m━━━━━━━━━━━━━━━━━━━━\u001b[0m\u001b[37m\u001b[0m \u001b[1m0s\u001b[0m 5ms/step - loss: 2.1781 - mae: 1.2875 - val_loss: 1.7415 - val_mae: 1.0834\n",
      "Epoch 12/20\n",
      "\u001b[1m14/14\u001b[0m \u001b[32m━━━━━━━━━━━━━━━━━━━━\u001b[0m\u001b[37m\u001b[0m \u001b[1m0s\u001b[0m 5ms/step - loss: 2.1875 - mae: 1.2879 - val_loss: 1.7408 - val_mae: 1.0817\n",
      "Epoch 13/20\n",
      "\u001b[1m14/14\u001b[0m \u001b[32m━━━━━━━━━━━━━━━━━━━━\u001b[0m\u001b[37m\u001b[0m \u001b[1m0s\u001b[0m 5ms/step - loss: 2.1416 - mae: 1.2635 - val_loss: 1.7412 - val_mae: 1.0820\n",
      "Epoch 14/20\n",
      "\u001b[1m14/14\u001b[0m \u001b[32m━━━━━━━━━━━━━━━━━━━━\u001b[0m\u001b[37m\u001b[0m \u001b[1m0s\u001b[0m 5ms/step - loss: 2.0889 - mae: 1.2427 - val_loss: 1.7495 - val_mae: 1.0980\n",
      "Epoch 15/20\n",
      "\u001b[1m14/14\u001b[0m \u001b[32m━━━━━━━━━━━━━━━━━━━━\u001b[0m\u001b[37m\u001b[0m \u001b[1m0s\u001b[0m 5ms/step - loss: 2.0713 - mae: 1.2434 - val_loss: 1.7405 - val_mae: 1.0814\n",
      "Epoch 16/20\n",
      "\u001b[1m14/14\u001b[0m \u001b[32m━━━━━━━━━━━━━━━━━━━━\u001b[0m\u001b[37m\u001b[0m \u001b[1m0s\u001b[0m 4ms/step - loss: 2.0286 - mae: 1.2180 - val_loss: 1.7445 - val_mae: 1.0912\n",
      "Epoch 17/20\n",
      "\u001b[1m14/14\u001b[0m \u001b[32m━━━━━━━━━━━━━━━━━━━━\u001b[0m\u001b[37m\u001b[0m \u001b[1m0s\u001b[0m 5ms/step - loss: 2.0861 - mae: 1.2449 - val_loss: 1.7424 - val_mae: 1.0862\n",
      "Epoch 18/20\n",
      "\u001b[1m14/14\u001b[0m \u001b[32m━━━━━━━━━━━━━━━━━━━━\u001b[0m\u001b[37m\u001b[0m \u001b[1m0s\u001b[0m 5ms/step - loss: 2.0847 - mae: 1.2483 - val_loss: 1.7399 - val_mae: 1.0902\n",
      "Epoch 19/20\n",
      "\u001b[1m14/14\u001b[0m \u001b[32m━━━━━━━━━━━━━━━━━━━━\u001b[0m\u001b[37m\u001b[0m \u001b[1m0s\u001b[0m 4ms/step - loss: 2.0624 - mae: 1.2373 - val_loss: 1.7466 - val_mae: 1.0950\n",
      "Epoch 20/20\n",
      "\u001b[1m14/14\u001b[0m \u001b[32m━━━━━━━━━━━━━━━━━━━━\u001b[0m\u001b[37m\u001b[0m \u001b[1m0s\u001b[0m 4ms/step - loss: 2.1246 - mae: 1.2483 - val_loss: 1.7395 - val_mae: 1.0811\n"
     ]
    }
   ],
   "source": [
    "# Train the model\n",
    "history = model.fit(X_train, y_train, validation_split=0.2, epochs=20, batch_size=32)"
   ]
  },
  {
   "cell_type": "code",
   "execution_count": 39,
   "id": "0ca337d1",
   "metadata": {},
   "outputs": [
    {
     "data": {
      "text/plain": [
       "<keras.src.callbacks.history.History at 0x22928c3c690>"
      ]
     },
     "execution_count": 39,
     "metadata": {},
     "output_type": "execute_result"
    }
   ],
   "source": [
    "history"
   ]
  },
  {
   "cell_type": "code",
   "execution_count": 40,
   "id": "9b0b2589",
   "metadata": {},
   "outputs": [
    {
     "name": "stdout",
     "output_type": "stream",
     "text": [
      "\u001b[1m5/5\u001b[0m \u001b[32m━━━━━━━━━━━━━━━━━━━━\u001b[0m\u001b[37m\u001b[0m \u001b[1m0s\u001b[0m 58ms/step\n",
      "RNN MAE: 1.161002152257686\n",
      "RNN MSE: 1.9226019653241697\n"
     ]
    }
   ],
   "source": [
    "# Evaluate the model\n",
    "y_pred = model.predict(X_test)\n",
    "print(\"RNN MAE:\", mean_absolute_error(y_test, y_pred))\n",
    "print(\"RNN MSE:\", mean_squared_error(y_test, y_pred))"
   ]
  },
  {
   "cell_type": "markdown",
   "id": "3e1807f4",
   "metadata": {},
   "source": [
    "# Conclusion\n",
    "The implementation of LSTM-based models demonstrated improved performance over baseline linear regression models for the given time-series data. Metrics such as Mean Absolute Error (MAE) and Mean Squared Error (MSE) indicate the model's capability to capture temporal patterns effectively. Future work can involve optimizing hyperparameters, incorporating additional features, or exploring advanced architectures to further enhance prediction accuracy."
   ]
  },
  {
   "cell_type": "code",
   "execution_count": null,
   "id": "3496204c",
   "metadata": {},
   "outputs": [],
   "source": []
  }
 ],
 "metadata": {
  "kernelspec": {
   "display_name": "Python 3 (ipykernel)",
   "language": "python",
   "name": "python3"
  },
  "language_info": {
   "codemirror_mode": {
    "name": "ipython",
    "version": 3
   },
   "file_extension": ".py",
   "mimetype": "text/x-python",
   "name": "python",
   "nbconvert_exporter": "python",
   "pygments_lexer": "ipython3",
   "version": "3.11.5"
  }
 },
 "nbformat": 4,
 "nbformat_minor": 5
}
